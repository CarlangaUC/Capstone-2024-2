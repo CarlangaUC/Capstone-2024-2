{
 "cells": [
  {
   "cell_type": "markdown",
   "metadata": {},
   "source": [
    "# Simulación con simpy\n",
    "\n",
    "jupyter para entender q es esto de simpy, no cachaba nada de los videos asi que hice esto, basicamente un copy paste de la pagina (link)[https://simpy.readthedocs.io/en/latest/simpy_intro/basic_concepts.html] despues de esto me hizo mas sentido como funciona simpy...\n",
    "\n",
    "## Conceptos basicos\n",
    "\n"
   ]
  },
  {
   "cell_type": "markdown",
   "metadata": {},
   "source": [
    " \n",
    "- Procesos (*process*): Los **procesos** modelan el comportamiento de las entidades (nuestro caso barcos etc)\n",
    "- Entorno (*environment*): Los procesos viven en un **entorno** \n",
    "\n",
    "##### ¿Como simpy maneja los procesos?\n",
    "\n",
    "Simpy maneja los procesos mediante [generadores](https://docs.python.org/3/glossary.html#term-generator), lo especial de este objeto es que retorna mediante el comando [yield](https://docs.python.org/3/reference/expressions.html#yieldexpr). Estos procesos crean eventos y los retornan (*yield/producen*)\n",
    "\n",
    "Supongamos que ocurre un evento, el proceso (generador) queda suspendido, aqui simpy reanuda el proceso cuando el evento ocurre (se dice que el evento es procesado). Muchos procesos pueden esperar por el mismo evento y simpy los reanuda en el mismo orden en el cual ellos prudujieron (yielded) ese evento.\n",
    "\n",
    "- **Timeout**: El **timeout** es un tipo de evento especial, este evento especial A procesado/ocurre despues de un cierto timepo este tipo de evento especial permite a un proceso a dormir (sleep) es decir que se queda pausado un cierto intervalo de tiempo"
   ]
  },
  {
   "cell_type": "code",
   "execution_count": 1,
   "metadata": {},
   "outputs": [
    {
     "name": "stdout",
     "output_type": "stream",
     "text": [
      "1\n",
      "2\n",
      "<generator object gen at 0x000001A143B0F8A0>\n",
      "Start parking at 0\n",
      "Start driving at 5\n",
      "Start parking at 7\n",
      "Start driving at 12\n",
      "Start parking at 14\n",
      "Start driving at 19\n"
     ]
    }
   ],
   "source": [
    "import simpy\n",
    "################################# Ejemplo de un generador #############################3\n",
    "# Una vez que una funcion tenga el termino yield se transforma en un generador\n",
    "def gen():  \n",
    "    yield 1\n",
    "    yield 2\n",
    "\n",
    "# iteracion 1: gen retorna 1 y el generador queda suspendido, luego se hace print del valor producido/yield\n",
    "# iteracion 2: gen deja de estar suspendido y retorna el siguiente yield, es decir el 2\n",
    "\n",
    "for i in gen():\n",
    "    print(i)\n",
    "\n",
    "# Notar que printer() no es una lista\n",
    "print(gen())\n",
    "\n",
    "############################# Ejemplo  simpy\n",
    "\n",
    "# Se define el proceso CAR el cual simulara el parking de autos \n",
    "\n",
    "# Un auto va a a conducir y aparcar alternando\n",
    "def car(env):\n",
    "\n",
    "    while True:\n",
    "        # Aparca el vehiculo\n",
    "        print('Start parking at %d' % env.now)\n",
    "        parking_duration = 5\n",
    "        yield env.timeout(parking_duration)\n",
    "\n",
    "        # Vuelve a conducir el vehiculo\n",
    "        print('Start driving at %d' % env.now)\n",
    "        trip_duration = 2\n",
    "        yield env.timeout(trip_duration)\n",
    "\n",
    "\n",
    "# Creamos el entorno simpy que manejara los procesos\n",
    "env = simpy.Environment()\n",
    "# Añadidmos el proceso car() al entorno!\n",
    "env.process(car(env))\n",
    "# Ejecutamos la simulacion hasta 20 tiempos\n",
    "env.run(until=20)"
   ]
  },
  {
   "cell_type": "markdown",
   "metadata": {},
   "source": [
    "Notar que el proceso *car* necesita de input el entorno *env* para crear nuevos eventos, ejemplo este produce el evento de *timeout*, el flujo seria como sigue:\n",
    "\n",
    "- car produce timout\n",
    "- timeout sleep cierto timepo\n",
    "- termina timeout (es procesado)\n",
    "- simpy reanuda car\n",
    "\n",
    "\n",
    "Tambien notemos que tenemos *env.now* el cual retorna el tiempo de la simulacion, "
   ]
  },
  {
   "cell_type": "markdown",
   "metadata": {},
   "source": [
    "## Interaccion entre procesos\n",
    "\n",
    "\n",
    "**Process** retornado por *environment.process* se utiliza para la interaccion entre procesos, el ejemplo anterior creamos una interaccion entre el proceso *timeout* y el proceso *car* \n",
    "\n",
    "Los procesos son tecnicamente eventos, **si tu proceso produce algo este se queda en pausa y se reanuda cuando el proceso haya terminado**\n",
    "Imagine una simulación de lavado de autos en la que los autos ingresan al túnel de lavado y esperan a que finalice el proceso de lavado. O una simulación de aeropuerto donde los pasajeros tienen que esperar hasta que finalice un control de seguridad.\n",
    "\n",
    "Supongamos que el coche de nuestro último ejemplo se convirtió mágicamente en un vehículo eléctrico. Los vehículos eléctricos suelen tardar mucho tiempo en cargar sus baterías después de un viaje. Tienen que esperar hasta que la batería esté cargada antes de poder empezar a conducir de nuevo.\n",
    "\n"
   ]
  },
  {
   "cell_type": "code",
   "execution_count": 2,
   "metadata": {},
   "outputs": [],
   "source": [
    "class Car(object):\n",
    "    def __init__(self, env):\n",
    "        self.env = env\n",
    "        \n",
    "        # Corre el proceso cada vez que la instancia es creada\n",
    "        self.action = env.process(self.run())\n",
    "\n",
    "    def run(self):\n",
    "        while True:\n",
    "            print('Start parking and charging at %d' % self.env.now)\n",
    "            charge_duration = 5\n",
    "            # Producimos el proceso que el proceso retornara (charge_duration = 5)\n",
    "            # to wait for it to finish\n",
    "            yield self.env.process(self.charge(charge_duration))\n",
    "\n",
    "            # The charge process has finished and\n",
    "            # we can start driving again.\n",
    "            print('Start driving at %d' % self.env.now)\n",
    "            trip_duration = 2\n",
    "            yield self.env.timeout(trip_duration)\n",
    "\n",
    "    def charge(self, duration):\n",
    "        yield self.env.timeout(duration)"
   ]
  },
  {
   "cell_type": "code",
   "execution_count": 3,
   "metadata": {},
   "outputs": [
    {
     "name": "stdout",
     "output_type": "stream",
     "text": [
      "Start parking and charging at 0\n",
      "Start driving at 5\n",
      "Start parking and charging at 7\n",
      "Start driving at 12\n",
      "Start parking and charging at 14\n"
     ]
    }
   ],
   "source": [
    "env = simpy.Environment() # Creamos el entorno\n",
    "car = Car(env) # incializamos la instancia Car\n",
    "env.run(until=15) # Iniciamos la simulacion hasta 15 tiempos"
   ]
  },
  {
   "cell_type": "markdown",
   "metadata": {},
   "source": [
    "## Interrupción de procesos\n",
    "\n",
    "Imaginemos en el ejemplo anterior que no queremos que el auto electrico se carge completamente"
   ]
  },
  {
   "cell_type": "code",
   "execution_count": 4,
   "metadata": {},
   "outputs": [
    {
     "name": "stdout",
     "output_type": "stream",
     "text": [
      "Start parking and charging at 0\n",
      "Was interrupted. Hope, the battery is full enough ...\n",
      "Start driving at 3\n",
      "Start parking and charging at 5\n",
      "Start driving at 10\n",
      "Start parking and charging at 12\n"
     ]
    }
   ],
   "source": [
    "def driver(env, car):\n",
    "    yield env.timeout(3)\n",
    "    car.action.interrupt()\n",
    "\n",
    "class Car():\n",
    "    def __init__(self, env):\n",
    "        self.env = env\n",
    "        self.action = env.process(self.run())\n",
    "\n",
    "    def run(self):\n",
    "        while True:\n",
    "            print('Start parking and charging at %d' % self.env.now)\n",
    "            charge_duration = 5\n",
    "            # We may get interrupted while charging the battery\n",
    "            try:\n",
    "                yield self.env.process(self.charge(charge_duration))\n",
    "            except simpy.Interrupt:\n",
    "                # When we received an interrupt, we stop charging and\n",
    "                # switch to the \"driving\" state\n",
    "                print('Was interrupted. Hope, the battery is full enough ...')\n",
    "\n",
    "            print('Start driving at %d' % self.env.now)\n",
    "            trip_duration = 2\n",
    "            yield self.env.timeout(trip_duration)\n",
    "\n",
    "    def charge(self, duration):\n",
    "        yield self.env.timeout(duration)\n",
    "\n",
    "env = simpy.Environment()\n",
    "car = Car(env)\n",
    "env.process(driver(env, car)) # interrumpimos el proceso\n",
    "env.run(until=15)"
   ]
  },
  {
   "cell_type": "markdown",
   "metadata": {},
   "source": [
    "# Recursos compartidos\n",
    "\n",
    "Simpy ofrece 3 tipos de recursos:\n",
    "\n",
    "- resource: Recursos que respetan prioridades y anticipacion\n",
    "- container: Recursos repartidos homogeneamente entre procesos\n",
    "- store: Recursos posiblimente una cantidad ilimitdada\n",
    "\n",
    "\n",
    "Un recurso que debemos modelar con esto es la capacidad actual del puerto!!, lo podemos ver como un recurso que puede llenarse no ilimitadamente por lo tanto descartamos container para la simulacion de capacidad de puertos\n",
    "\n",
    "\n",
    "Consideremos el ejemlpo del auto supongamos ahora que este conduce a una estacion de carga electrica la cual tiene 2 posibles espacios de carga, si estan ocupados espera hasta que uno de estos se desocupe\n"
   ]
  },
  {
   "cell_type": "code",
   "execution_count": 5,
   "metadata": {},
   "outputs": [],
   "source": [
    "def car(env, name, bcs, driving_time, charge_duration):\n",
    "    # Simulate driving to the BCS\n",
    "    yield env.timeout(driving_time)\n",
    "\n",
    "    # Request one of its charging spots\n",
    "    print('%s arriving at %d' % (name, env.now))\n",
    "    with bcs.request() as req:\n",
    "        yield req\n",
    "\n",
    "        # Charge the battery\n",
    "        print('%s starting to charge at %s' % (name, env.now))\n",
    "        yield env.timeout(charge_duration)\n",
    "        print('%s leaving the bcs at %s' % (name, env.now))"
   ]
  },
  {
   "cell_type": "markdown",
   "metadata": {},
   "source": [
    "el metodo *request()* genera un evento el cual hace esperar hasta que este disponible tal recurso. Notar, que se utilizó with, esto se encarga automaticamente de liberar el recurso, sin with debemos usar *release()* una vez que se termine de usar el recurso\n",
    "\n",
    "\n",
    "Cuando se libera un recurso el proceso que estaba esperando es reanudado y utuiliza rl recuros, se usa  un orden FIFO (first in—first out)"
   ]
  },
  {
   "cell_type": "code",
   "execution_count": 6,
   "metadata": {},
   "outputs": [
    {
     "name": "stdout",
     "output_type": "stream",
     "text": [
      "Car 0 arriving at 0\n",
      "Car 0 starting to charge at 0\n",
      "Car 1 arriving at 2\n",
      "Car 2 arriving at 4\n",
      "Car 0 leaving the bcs at 5\n",
      "Car 1 starting to charge at 5\n",
      "Car 3 arriving at 6\n",
      "Car 4 arriving at 8\n"
     ]
    }
   ],
   "source": [
    "env = simpy.Environment()\n",
    "bcs = simpy.Resource(env, capacity=1)\n",
    "for i in range(50):\n",
    "    env.process(car(env, 'Car %d' % i, bcs, i*2, 5))\n",
    "\n",
    "env.run(until=10)"
   ]
  },
  {
   "cell_type": "markdown",
   "metadata": {},
   "source": [
    "# Geometria"
   ]
  },
  {
   "cell_type": "markdown",
   "metadata": {},
   "source": [
    "\n",
    "<!-- \n",
    "\n",
    " ### ¿Que geometria se usa en la tierra?\n",
    " http://www.geo.hunter.cuny.edu/~jochen/gtech201/lectures/lec6concepts/Datums/The%20earths%20shape%20is%20a%20spheroid.htm:~:text=The%20earth's%20shape%20is%20a%20spheroid&text=Although%20the%20earth's%20shape%20is,ellipsoid%20that%20approximates%20a%20sphere.\n",
    " Una buena aproximación es usar la geometria esferica \n",
    "\n",
    " Con esta geometria basicamente debemos encontrar la forma de calcular la distancia mas corta entre puntos en la esfera\n",
    " Cada punto en la esfera lo representamos por (latitud, longuitud) https://es.wikipedia.org/wiki/Coordenadas_geogr%C3%A1ficas\n",
    "\n",
    " Dado dos puntos en la esfera, cual es la curva más corta que los conecta?\n",
    " Para esto se necesita el concepto de https://en.wikipedia.org/wiki/Great_circle\n",
    " ### Como implementar?\n",
    " Una libreria que implementa esto es geopy\n",
    "\n",
    "[Ejemplo de como se calcula la distancia mas corta](https://geopy.readthedocs.io/en/stable/#module-geopy.distance) -->\n",
    "\n",
    "#### ¿Como manejar la geometria en este proyecto?\n",
    "\n",
    "Según mi perspectiva, la mejor forma para abordar esto (si consideramos simular las rutas por coordenadas) es usando\n",
    "**geodataframes** es decir un dataframe más una columna que especifica la geometria\n",
    "\n",
    "La libreria geopandas tiene la clase *geopandas.GeoDataFrame* con la cual se puede cargar este tipo de objetos, un ejemplo de un geodataframe\n",
    "\n",
    "\n",
    "| Barco   | Longitud (m) | Ancho (m) | Peso (toneladas) | Capacidad de personas | Geometría      |\n",
    "|---------|--------------|-----------|-------------------|-----------------------|-----------------|\n",
    "| barco 1  | 12           | 3         | 2.5               | 6                     | Point(lat, lon)   |\n",
    "| barco 2    | 15           | 4         | 3.5               | 10                    | Point(15, 25)   |\n",
    "\n",
    "Para representar la geometria usualmente se usa la libreria *shaply*, geopandas la guarda en un objeto especial *Geoserie*\n",
    "\n",
    "**La ventaja de usar esto es que podemos especificar el sistema coordenado con el cual vamos a trabajar con el atributo csr**\n",
    "\n",
    "Consideremos el siguiente ejemplo\n"
   ]
  },
  {
   "cell_type": "code",
   "execution_count": 7,
   "metadata": {},
   "outputs": [
    {
     "name": "stdout",
     "output_type": "stream",
     "text": [
      "Geodataframe con csr geodesico\n",
      "                      geometry   nombre\n",
      "0  POINT (-70.64913 -33.47350)  barco_1\n",
      "Geodataframe con csr mercator\n",
      "                            geometry   nombre\n",
      "0  POINT (-7864625.446 -3934756.563)  barco_1\n"
     ]
    }
   ],
   "source": [
    "import geopandas as gpd\n",
    "from shapely.geometry import Point\n",
    "\n",
    "\n",
    "# Crear un GeoDataFrame con un punto (latitud, longitud)\n",
    "latitud = -33.47349532706206 ;longitud = -70.64913242179095 # COORDENADAS DE SANTAIGO\n",
    "\n",
    "# Creamos un geodataframe\n",
    "\n",
    "gdf= gpd.GeoDataFrame(geometry=[Point(longitud, latitud)], crs='EPSG:4326') # Sistema  World Geodetic System\n",
    "\n",
    "gdf[\"nombre\"]=\"barco_1\"\n",
    "################# AGREGANDO CRS MERCATOR\n",
    "print(\"Geodataframe con csr geodesico\")\n",
    "print(gdf)\n",
    "############################################\n",
    "gdf = gdf.to_crs(\"EPSG:3395\") # EPSG:3395 ES EL CSR DE LA PROYECCION MERCATOR\n",
    "print(\"Geodataframe con csr mercator\")\n",
    "print(gdf)\n",
    "\n",
    "\n",
    "\n",
    "\n",
    "# https://epsg.io/3395 proyeccion mercator\n"
   ]
  },
  {
   "cell_type": "markdown",
   "metadata": {},
   "source": [
    "## visualizando"
   ]
  },
  {
   "cell_type": "code",
   "execution_count": 8,
   "metadata": {},
   "outputs": [
    {
     "data": {
      "text/plain": [
       "<Axes: >"
      ]
     },
     "execution_count": 8,
     "metadata": {},
     "output_type": "execute_result"
    },
    {
     "data": {
      "image/png": "[encoded data removed]",
      "text/plain": [
       "<Figure size 640x480 with 1 Axes>"
      ]
     },
     "metadata": {},
     "output_type": "display_data"
    }
   ],
   "source": [
    "buffer = gdf.buffer(1000)  # 1000 metros\n",
    "\n",
    "buffer_2 = gdf.buffer(100)  # 100 metros\n",
    "buffer_gdf = gpd.GeoDataFrame(geometry=buffer, crs='EPSG:3395')\n",
    "buffer_2gdf = gpd.GeoDataFrame(geometry = buffer_2, crs = 'EPSG:3395')\n",
    "buffer_gdf.plot()\n",
    " \n"
   ]
  },
  {
   "cell_type": "markdown",
   "metadata": {},
   "source": [
    "## Visualizando con folium"
   ]
  },
  {
   "cell_type": "code",
   "execution_count": 10,
   "metadata": {},
   "outputs": [
    {
     "data": {
      "text/html": [
       "<div style=\"width:100%;\"><div style=\"position:relative;width:100%;height:0;padding-bottom:60%;\"><span style=\"color:#565656\">Make this Notebook Trusted to load map: File -> Trust Notebook</span><iframe srcdoc=\"&lt;!DOCTYPE html&gt;\n",
       "&lt;html&gt;\n",
       "&lt;head&gt;\n",
       "    \n",
       "    &lt;meta http-equiv=&quot;content-type&quot; content=&quot;text/html; charset=UTF-8&quot; /&gt;\n",
       "    \n",
       "        &lt;script&gt;\n",
       "            L_NO_TOUCH = false;\n",
       "            L_DISABLE_3D = false;\n",
       "        &lt;/script&gt;\n",
       "    \n",
       "    &lt;style&gt;html, body {width: 100%;height: 100%;margin: 0;padding: 0;}&lt;/style&gt;\n",
       "    &lt;style&gt;#map {position:absolute;top:0;bottom:0;right:0;left:0;}&lt;/style&gt;\n",
       "    &lt;script src=&quot;https://cdn.jsdelivr.net/npm/leaflet@1.9.3/dist/leaflet.js&quot;&gt;&lt;/script&gt;\n",
       "    &lt;script src=&quot;https://code.jquery.com/jquery-3.7.1.min.js&quot;&gt;&lt;/script&gt;\n",
       "    &lt;script src=&quot;https://cdn.jsdelivr.net/npm/bootstrap@5.2.2/dist/js/bootstrap.bundle.min.js&quot;&gt;&lt;/script&gt;\n",
       "    &lt;script src=&quot;https://cdnjs.cloudflare.com/ajax/libs/Leaflet.awesome-markers/2.0.2/leaflet.awesome-markers.js&quot;&gt;&lt;/script&gt;\n",
       "    &lt;link rel=&quot;stylesheet&quot; href=&quot;https://cdn.jsdelivr.net/npm/leaflet@1.9.3/dist/leaflet.css&quot;/&gt;\n",
       "    &lt;link rel=&quot;stylesheet&quot; href=&quot;https://cdn.jsdelivr.net/npm/bootstrap@5.2.2/dist/css/bootstrap.min.css&quot;/&gt;\n",
       "    &lt;link rel=&quot;stylesheet&quot; href=&quot;https://netdna.bootstrapcdn.com/bootstrap/3.0.0/css/bootstrap.min.css&quot;/&gt;\n",
       "    &lt;link rel=&quot;stylesheet&quot; href=&quot;https://cdn.jsdelivr.net/npm/@fortawesome/fontawesome-free@6.2.0/css/all.min.css&quot;/&gt;\n",
       "    &lt;link rel=&quot;stylesheet&quot; href=&quot;https://cdnjs.cloudflare.com/ajax/libs/Leaflet.awesome-markers/2.0.2/leaflet.awesome-markers.css&quot;/&gt;\n",
       "    &lt;link rel=&quot;stylesheet&quot; href=&quot;https://cdn.jsdelivr.net/gh/python-visualization/folium/folium/templates/leaflet.awesome.rotate.min.css&quot;/&gt;\n",
       "    \n",
       "            &lt;meta name=&quot;viewport&quot; content=&quot;width=device-width,\n",
       "                initial-scale=1.0, maximum-scale=1.0, user-scalable=no&quot; /&gt;\n",
       "            &lt;style&gt;\n",
       "                #map_346b062d3ac0fc4a2dc0e6c4b02a424f {\n",
       "                    position: relative;\n",
       "                    width: 100.0%;\n",
       "                    height: 100.0%;\n",
       "                    left: 0.0%;\n",
       "                    top: 0.0%;\n",
       "                }\n",
       "                .leaflet-container { font-size: 1rem; }\n",
       "            &lt;/style&gt;\n",
       "        \n",
       "&lt;/head&gt;\n",
       "&lt;body&gt;\n",
       "    \n",
       "    \n",
       "            &lt;div class=&quot;folium-map&quot; id=&quot;map_346b062d3ac0fc4a2dc0e6c4b02a424f&quot; &gt;&lt;/div&gt;\n",
       "        \n",
       "&lt;/body&gt;\n",
       "&lt;script&gt;\n",
       "    \n",
       "    \n",
       "            var map_346b062d3ac0fc4a2dc0e6c4b02a424f = L.map(\n",
       "                &quot;map_346b062d3ac0fc4a2dc0e6c4b02a424f&quot;,\n",
       "                {\n",
       "                    center: [-33.47349532706206, -70.64913242179095],\n",
       "                    crs: L.CRS.EPSG3857,\n",
       "                    zoom: 11,\n",
       "                    zoomControl: true,\n",
       "                    preferCanvas: false,\n",
       "                }\n",
       "            );\n",
       "\n",
       "            \n",
       "\n",
       "        \n",
       "    \n",
       "            var tile_layer_6449e9b293cd29b528761f71ed50d731 = L.tileLayer(\n",
       "                &quot;https://tile.openstreetmap.org/{z}/{x}/{y}.png&quot;,\n",
       "                {&quot;attribution&quot;: &quot;\\u0026copy; \\u003ca href=\\&quot;https://www.openstreetmap.org/copyright\\&quot;\\u003eOpenStreetMap\\u003c/a\\u003e contributors&quot;, &quot;detectRetina&quot;: false, &quot;maxNativeZoom&quot;: 19, &quot;maxZoom&quot;: 19, &quot;minZoom&quot;: 0, &quot;noWrap&quot;: false, &quot;opacity&quot;: 1, &quot;subdomains&quot;: &quot;abc&quot;, &quot;tms&quot;: false}\n",
       "            );\n",
       "        \n",
       "    \n",
       "            tile_layer_6449e9b293cd29b528761f71ed50d731.addTo(map_346b062d3ac0fc4a2dc0e6c4b02a424f);\n",
       "        \n",
       "    \n",
       "            var marker_6c3a8ab6bf9bcc1ef4865603cf209529 = L.marker(\n",
       "                [-33.47349532706206, -70.64913242179095],\n",
       "                {}\n",
       "            ).addTo(map_346b062d3ac0fc4a2dc0e6c4b02a424f);\n",
       "        \n",
       "    \n",
       "        var popup_a84aacf98a1bd81279f6a7de921254c6 = L.popup({&quot;maxWidth&quot;: &quot;100%&quot;});\n",
       "\n",
       "        \n",
       "            \n",
       "                var html_29d453fc9c1d7a3afd52714c709f50cd = $(`&lt;div id=&quot;html_29d453fc9c1d7a3afd52714c709f50cd&quot; style=&quot;width: 100.0%; height: 100.0%;&quot;&gt;Aquí estoy&lt;/div&gt;`)[0];\n",
       "                popup_a84aacf98a1bd81279f6a7de921254c6.setContent(html_29d453fc9c1d7a3afd52714c709f50cd);\n",
       "            \n",
       "        \n",
       "\n",
       "        marker_6c3a8ab6bf9bcc1ef4865603cf209529.bindPopup(popup_a84aacf98a1bd81279f6a7de921254c6)\n",
       "        ;\n",
       "\n",
       "        \n",
       "    \n",
       "    \n",
       "\n",
       "        function geo_json_0fa9eaf6c2b130cebc46a383fa4d0fee_onEachFeature(feature, layer) {\n",
       "            layer.on({\n",
       "            });\n",
       "        };\n",
       "        var geo_json_0fa9eaf6c2b130cebc46a383fa4d0fee = L.geoJson(null, {\n",
       "                onEachFeature: geo_json_0fa9eaf6c2b130cebc46a383fa4d0fee_onEachFeature,\n",
       "            \n",
       "        });\n",
       "\n",
       "        function geo_json_0fa9eaf6c2b130cebc46a383fa4d0fee_add (data) {\n",
       "            geo_json_0fa9eaf6c2b130cebc46a383fa4d0fee\n",
       "                .addData(data);\n",
       "        }\n",
       "            geo_json_0fa9eaf6c2b130cebc46a383fa4d0fee_add({&quot;bbox&quot;: [-70.65811557463215, -33.48102335136972, -70.64014926894976, -33.46596664257945], &quot;features&quot;: [{&quot;bbox&quot;: [-70.65811557463215, -33.48102335136972, -70.64014926894976, -33.46596664257945], &quot;geometry&quot;: {&quot;coordinates&quot;: [[[-70.64014926894976, -33.473495327062054], [-70.64019252528603, -33.474233231661145], [-70.64032187771268, -33.47496402358429], [-70.64053608049517, -33.4756806651762], [-70.64083307074354, -33.476376255225766], [-70.64120998827941, -33.47704409541162], [-70.64166320318083, -33.477677754787976], [-70.64218835074055, -33.47827113169036], [-70.64278037350051, -33.478818512466525], [-70.64343356995788, -33.47931462646767], [-70.64414164947371, -33.47975469677209], [-70.6448977928552, -33.4801344861539], [-70.64569471802822, -33.480450337855544], [-70.64652475016771, -33.480699210772826], [-70.64737989561044, -33.48087870871464], [-70.6482519188383, -33.480987103456975], [-70.64913242179095, -33.48102335136972], [-70.65001292474359, -33.480987103456975], [-70.65088494797145, -33.48087870871464], [-70.65174009341418, -33.480699210772826], [-70.65257012555367, -33.480450337855544], [-70.65336705072669, -33.4801344861539], [-70.65412319410818, -33.47975469677209], [-70.65483127362401, -33.47931462646767], [-70.65548447008139, -33.478818512466525], [-70.65607649284135, -33.47827113169036], [-70.65660164040108, -33.477677754787976], [-70.65705485530249, -33.47704409541162], [-70.65743177283835, -33.476376255225766], [-70.65772876308674, -33.4756806651762], [-70.6579429658692, -33.47496402358429], [-70.65807231829586, -33.474233231661145], [-70.65811557463215, -33.473495327062054], [-70.65807231829586, -33.47275741612043], [-70.6579429658692, -33.47202660541341], [-70.65772876308674, -33.471309933318146], [-70.65743177283835, -33.47061430221797], [-70.65705485530249, -33.46994641201179], [-70.65660164040108, -33.46931269556768], [-70.65607649284135, -33.46871925674316], [-70.65548447008139, -33.46817181157013], [-70.65483127362401, -33.467675633172114], [-70.65412319410818, -33.467235500945556], [-70.65336705072669, -33.46685565449598], [-70.65257012555367, -33.46653975277401], [-70.65174009341418, -33.46629083880612], [-70.65088494797145, -33.46611131036094], [-70.65001292474359, -33.46600289683473], [-70.64913242179095, -33.46596664257945], [-70.6482519188383, -33.46600289683473], [-70.64737989561044, -33.46611131036094], [-70.64652475016771, -33.46629083880612], [-70.64569471802822, -33.46653975277401], [-70.6448977928552, -33.46685565449598], [-70.64414164947371, -33.467235500945556], [-70.64343356995788, -33.467675633172114], [-70.64278037350051, -33.46817181157013], [-70.64218835074055, -33.46871925674316], [-70.64166320318083, -33.46931269556768], [-70.64120998827941, -33.46994641201179], [-70.64083307074354, -33.47061430221797], [-70.64053608049517, -33.471309933318146], [-70.64032187771268, -33.47202660541341], [-70.64019252528603, -33.47275741612043], [-70.64014926894976, -33.473495327062054]]], &quot;type&quot;: &quot;Polygon&quot;}, &quot;id&quot;: &quot;0&quot;, &quot;properties&quot;: {}, &quot;type&quot;: &quot;Feature&quot;}], &quot;type&quot;: &quot;FeatureCollection&quot;});\n",
       "\n",
       "        \n",
       "    \n",
       "            geo_json_0fa9eaf6c2b130cebc46a383fa4d0fee.addTo(map_346b062d3ac0fc4a2dc0e6c4b02a424f);\n",
       "        \n",
       "    \n",
       "\n",
       "        function geo_json_888591ebd98d46ea7cd8885cf26364a3_onEachFeature(feature, layer) {\n",
       "            layer.on({\n",
       "            });\n",
       "        };\n",
       "        var geo_json_888591ebd98d46ea7cd8885cf26364a3 = L.geoJson(null, {\n",
       "                onEachFeature: geo_json_888591ebd98d46ea7cd8885cf26364a3_onEachFeature,\n",
       "            \n",
       "        });\n",
       "\n",
       "        function geo_json_888591ebd98d46ea7cd8885cf26364a3_add (data) {\n",
       "            geo_json_888591ebd98d46ea7cd8885cf26364a3\n",
       "                .addData(data);\n",
       "        }\n",
       "            geo_json_888591ebd98d46ea7cd8885cf26364a3_add({&quot;bbox&quot;: [-70.65003073707507, -33.474248159201885, -70.64823410650682, -33.47274248832049], &quot;features&quot;: [{&quot;bbox&quot;: [-70.65003073707507, -33.474248159201885, -70.64823410650682, -33.47274248832049], &quot;geometry&quot;: {&quot;coordinates&quot;: [[[-70.64823410650682, -33.473495327062054], [-70.64823843214046, -33.473569117807386], [-70.64825136738312, -33.47364219784499], [-70.64827278766137, -33.47371386337683], [-70.6483024866862, -33.47378342422911], [-70.64834017843978, -33.473850210498675], [-70.64838549992993, -33.47391357900444], [-70.64843801468591, -33.47397291948126], [-70.64849721696191, -33.474027660456855], [-70.64856253660764, -33.47407727475496], [-70.64863334455923, -33.47412128457204], [-70.64870895889736, -33.474159266078395], [-70.64878865141468, -33.4741908534996], [-70.64887165462864, -33.47421574263871], [-70.64895716917289, -33.474233693805616], [-70.64904437149569, -33.47424453412518], [-70.64913242179095, -33.474248159201885], [-70.64922047208621, -33.47424453412518], [-70.649307674409, -33.474233693805616], [-70.64939318895327, -33.47421574263871], [-70.64947619216721, -33.4741908534996], [-70.64955588468452, -33.474159266078395], [-70.64963149902266, -33.47412128457204], [-70.64970230697425, -33.47407727475496], [-70.64976762661999, -33.474027660456855], [-70.64982682889598, -33.47397291948126], [-70.64987934365196, -33.47391357900444], [-70.64992466514211, -33.473850210498675], [-70.64996235689568, -33.47378342422911], [-70.64999205592052, -33.47371386337683], [-70.65001347619878, -33.47364219784499], [-70.65002641144143, -33.473569117807386], [-70.65003073707507, -33.473495327062054], [-70.65002641144143, -33.47342153625331], [-70.65001347619878, -33.47334845602787], [-70.64999205592052, -33.47327679019098], [-70.64996235689568, -33.473207228928196], [-70.64992466514211, -33.473140442158446], [-70.64987934365196, -33.473077073081996], [-70.64982682889598, -33.47301773198595], [-70.64976762661999, -33.47296299036638], [-70.64970230697425, -33.47291337542432], [-70.64963149902266, -33.47286936498802], [-70.64955588468452, -33.47283138291098], [-70.64947619216721, -33.47279979498958], [-70.64939318895327, -33.472774905439955], [-70.649307674409, -33.472756953968016], [-70.64922047208621, -33.47274611346062], [-70.64913242179095, -33.47274248832049], [-70.64904437149569, -33.47274611346062], [-70.64895716917289, -33.472756953968016], [-70.64887165462864, -33.472774905439955], [-70.64878865141468, -33.47279979498958], [-70.64870895889736, -33.47283138291098], [-70.64863334455923, -33.47286936498802], [-70.64856253660764, -33.47291337542432], [-70.64849721696191, -33.47296299036638], [-70.64843801468591, -33.47301773198595], [-70.64838549992993, -33.473077073081996], [-70.64834017843978, -33.473140442158446], [-70.6483024866862, -33.473207228928196], [-70.64827278766137, -33.47327679019098], [-70.64825136738312, -33.47334845602787], [-70.64823843214046, -33.47342153625331], [-70.64823410650682, -33.473495327062054]]], &quot;type&quot;: &quot;Polygon&quot;}, &quot;id&quot;: &quot;0&quot;, &quot;properties&quot;: {}, &quot;type&quot;: &quot;Feature&quot;}], &quot;type&quot;: &quot;FeatureCollection&quot;});\n",
       "\n",
       "        \n",
       "    \n",
       "            geo_json_888591ebd98d46ea7cd8885cf26364a3.addTo(map_346b062d3ac0fc4a2dc0e6c4b02a424f);\n",
       "        \n",
       "&lt;/script&gt;\n",
       "&lt;/html&gt;\" style=\"position:absolute;width:100%;height:100%;left:0;top:0;border:none !important;\" allowfullscreen webkitallowfullscreen mozallowfullscreen></iframe></div></div>"
      ],
      "text/plain": [
       "<folium.folium.Map at 0x1a14423a750>"
      ]
     },
     "execution_count": 10,
     "metadata": {},
     "output_type": "execute_result"
    }
   ],
   "source": [
    "import folium\n",
    "\n",
    "# Mostrar el mapa\n",
    "m = folium.Map(location=[latitud,longitud],zoom_start=11)\n",
    "folium.Marker([latitud, longitud], popup='Aquí estoy').add_to(m)\n",
    "\n",
    "folium.GeoJson(buffer_gdf, name=\"hello world\").add_to(m)\n",
    "\n",
    "folium.GeoJson(buffer_2gdf, name=\"hello world\").add_to(m)\n",
    "m\n"
   ]
  },
  {
   "cell_type": "markdown",
   "metadata": {},
   "source": [
    "![alternativo](operaciones_geometricas.png)\n",
    "![ternativo](operaciones.png)\n",
    "![Texto alternativo](mercator.png)"
   ]
  },
  {
   "cell_type": "markdown",
   "metadata": {},
   "source": [
    "\n",
    "### \n",
    "####### Se puede usar geometria euclideana con puntos ya en la proyeccion mercator? \n",
    "https://math.stackexchange.com/questions/738529/distance-between-two-points-in-utm-coordinates\n",
    "\n",
    "##### \n",
    "Quizas esto pueda ser util, hay una libreria que calcula la distancia mas corta entre dos puertos de la tierra\n",
    "[Libreria: scgraph](https://stackoverflow.com/questions/68112636/is-there-any-python-package-available-to-calculate-shortest-distance-between-coo )\n",
    "con esto podriamos adaptar la simulacion para cuando considere puertos reales"
   ]
  },
  {
   "cell_type": "markdown",
   "metadata": {},
   "source": []
  }
 ],
 "metadata": {
  "kernelspec": {
   "display_name": "Python 3",
   "language": "python",
   "name": "python3"
  },
  "language_info": {
   "codemirror_mode": {
    "name": "ipython",
    "version": 3
   },
   "file_extension": ".py",
   "mimetype": "text/x-python",
   "name": "python",
   "nbconvert_exporter": "python",
   "pygments_lexer": "ipython3",
   "version": "3.11.9"
  }
 },
 "nbformat": 4,
 "nbformat_minor": 2
}
