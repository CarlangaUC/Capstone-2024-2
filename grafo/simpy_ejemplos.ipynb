{
 "cells": [
  {
   "cell_type": "markdown",
   "metadata": {},
   "source": [
    "# Simulación con simpy\n",
    "\n",
    "jupyter para entender q es esto de simpy, no cachaba nada de los videos asi que hice esto, basicamente un copy paste de la pagina (link)[https://simpy.readthedocs.io/en/latest/simpy_intro/basic_concepts.html] despues de esto me hizo mas sentido como funciona simpy...\n",
    "\n",
    "## Conceptos basicos\n",
    "\n"
   ]
  },
  {
   "cell_type": "markdown",
   "metadata": {},
   "source": [
    " \n",
    "- Procesos (*process*): Los **procesos** modelan el comportamiento de las entidades (nuestro caso barcos etc)\n",
    "- Entorno (*environment*): Los procesos viven en un **entorno** \n",
    "\n",
    "##### ¿Como simpy maneja los procesos?\n",
    "\n",
    "Simpy maneja los procesos mediante [generadores](https://docs.python.org/3/glossary.html#term-generator), lo especial de este objeto es que retorna mediante el comando [yield](https://docs.python.org/3/reference/expressions.html#yieldexpr). Estos procesos crean eventos y los retornan (*yield/producen*)\n",
    "\n",
    "Supongamos que ocurre un evento, el proceso (generador) queda suspendido, aqui simpy reanuda el proceso cuando el evento ocurre (se dice que el evento es procesado). Muchos procesos pueden esperar por el mismo evento y simpy los reanuda en el mismo orden en el cual ellos prudujieron (yielded) ese evento.\n",
    "\n",
    "- **Timeout**: El **timeout** es un tipo de evento especial, este evento especial A procesado/ocurre despues de un cierto timepo este tipo de evento especial permite a un proceso a dormir (sleep) es decir que se queda pausado un cierto intervalo de tiempo"
   ]
  },
  {
   "cell_type": "code",
   "execution_count": 26,
   "metadata": {},
   "outputs": [
    {
     "name": "stdout",
     "output_type": "stream",
     "text": [
      "1\n",
      "2\n",
      "<generator object gen at 0x000001C8FF0CC5C0>\n",
      "Start parking at 0\n",
      "Start driving at 5\n",
      "Start parking at 7\n",
      "Start driving at 12\n",
      "Start parking at 14\n",
      "Start driving at 19\n"
     ]
    }
   ],
   "source": [
    "import simpy\n",
    "################################# Ejemplo de un generador #############################3\n",
    "# Una vez que una funcion tenga el termino yield se transforma en un generador\n",
    "def gen():  \n",
    "    yield 1\n",
    "    yield 2\n",
    "\n",
    "# iteracion 1: gen retorna 1 y el generador queda suspendido, luego se hace print del valor producido/yield\n",
    "# iteracion 2: gen deja de estar suspendido y retorna el siguiente yield, es decir el 2\n",
    "\n",
    "for i in gen():\n",
    "    print(i)\n",
    "\n",
    "# Notar que printer() no es una lista\n",
    "print(gen())\n",
    "\n",
    "############################# Ejemplo  simpy\n",
    "\n",
    "# Se define el proceso CAR el cual simulara el parking de autos \n",
    "\n",
    "# Un auto va a a conducir y aparcar alternando\n",
    "def car(env):\n",
    "\n",
    "    while True:\n",
    "        # Aparca el vehiculo\n",
    "        print('Start parking at %d' % env.now)\n",
    "        parking_duration = 5\n",
    "        yield env.timeout(parking_duration)\n",
    "\n",
    "        # Vuelve a conducir el vehiculo\n",
    "        print('Start driving at %d' % env.now)\n",
    "        trip_duration = 2\n",
    "        yield env.timeout(trip_duration)\n",
    "\n",
    "\n",
    "# Creamos el entorno simpy que manejara los procesos\n",
    "env = simpy.Environment()\n",
    "# Añadidmos el proceso car() al entorno!\n",
    "env.process(car(env))\n",
    "# Ejecutamos la simulacion hasta 20 tiempos\n",
    "env.run(until=20)"
   ]
  },
  {
   "cell_type": "markdown",
   "metadata": {},
   "source": [
    "Notar que el proceso *car* necesita de input el entorno *env* para crear nuevos eventos, ejemplo este produce el evento de *timeout*, el flujo seria como sigue:\n",
    "\n",
    "- car produce timout\n",
    "- timeout sleep cierto timepo\n",
    "- termina timeout (es procesado)\n",
    "- simpy reanuda car\n",
    "\n",
    "\n",
    "Tambien notemos que tenemos *env.now* el cual retorna el tiempo de la simulacion, "
   ]
  },
  {
   "cell_type": "markdown",
   "metadata": {},
   "source": [
    "## Interaccion entre procesos\n",
    "\n",
    "\n",
    "**Process** retornado por *environment.process* se utiliza para la interaccion entre procesos, el ejemplo anterior creamos una interaccion entre el proceso *timeout* y el proceso *car* \n",
    "\n",
    "Los procesos son tecnicamente eventos, **si tu proceso produce algo este se queda en pausa y se reanuda cuando el proceso haya terminado**\n",
    "Imagine una simulación de lavado de autos en la que los autos ingresan al túnel de lavado y esperan a que finalice el proceso de lavado. O una simulación de aeropuerto donde los pasajeros tienen que esperar hasta que finalice un control de seguridad.\n",
    "\n",
    "Supongamos que el coche de nuestro último ejemplo se convirtió mágicamente en un vehículo eléctrico. Los vehículos eléctricos suelen tardar mucho tiempo en cargar sus baterías después de un viaje. Tienen que esperar hasta que la batería esté cargada antes de poder empezar a conducir de nuevo.\n",
    "\n"
   ]
  },
  {
   "cell_type": "code",
   "execution_count": 27,
   "metadata": {},
   "outputs": [],
   "source": [
    "class Car(object):\n",
    "    def __init__(self, env):\n",
    "        self.env = env\n",
    "        \n",
    "        # Corre el proceso cada vez que la instancia es creada\n",
    "        self.action = env.process(self.run())\n",
    "\n",
    "    def run(self):\n",
    "        while True:\n",
    "            print('Start parking and charging at %d' % self.env.now)\n",
    "            charge_duration = 5\n",
    "            # Producimos el proceso que el proceso retornara (charge_duration = 5)\n",
    "            # to wait for it to finish\n",
    "            yield self.env.process(self.charge(charge_duration))\n",
    "\n",
    "            # The charge process has finished and\n",
    "            # we can start driving again.\n",
    "            print('Start driving at %d' % self.env.now)\n",
    "            trip_duration = 2\n",
    "            yield self.env.timeout(trip_duration)\n",
    "\n",
    "    def charge(self, duration):\n",
    "        yield self.env.timeout(duration)"
   ]
  },
  {
   "cell_type": "code",
   "execution_count": 28,
   "metadata": {},
   "outputs": [
    {
     "name": "stdout",
     "output_type": "stream",
     "text": [
      "Start parking and charging at 0\n",
      "Start driving at 5\n",
      "Start parking and charging at 7\n",
      "Start driving at 12\n",
      "Start parking and charging at 14\n"
     ]
    }
   ],
   "source": [
    "env = simpy.Environment() # Creamos el entorno\n",
    "car = Car(env) # incializamos la instancia Car\n",
    "env.run(until=15) # Iniciamos la simulacion hasta 15 tiempos"
   ]
  },
  {
   "cell_type": "markdown",
   "metadata": {},
   "source": [
    "## Interrupción de procesos\n",
    "\n",
    "Imaginemos en el ejemplo anterior que no queremos que el auto electrico se carge completamente"
   ]
  },
  {
   "cell_type": "code",
   "execution_count": 29,
   "metadata": {},
   "outputs": [
    {
     "name": "stdout",
     "output_type": "stream",
     "text": [
      "Start parking and charging at 0\n",
      "Was interrupted. Hope, the battery is full enough ...\n",
      "Start driving at 3\n",
      "Start parking and charging at 5\n",
      "Start driving at 10\n",
      "Start parking and charging at 12\n"
     ]
    }
   ],
   "source": [
    "def driver(env, car):\n",
    "    yield env.timeout(3)\n",
    "    car.action.interrupt()\n",
    "\n",
    "class Car():\n",
    "    def __init__(self, env):\n",
    "        self.env = env\n",
    "        self.action = env.process(self.run())\n",
    "\n",
    "    def run(self):\n",
    "        while True:\n",
    "            print('Start parking and charging at %d' % self.env.now)\n",
    "            charge_duration = 5\n",
    "            # We may get interrupted while charging the battery\n",
    "            try:\n",
    "                yield self.env.process(self.charge(charge_duration))\n",
    "            except simpy.Interrupt:\n",
    "                # When we received an interrupt, we stop charging and\n",
    "                # switch to the \"driving\" state\n",
    "                print('Was interrupted. Hope, the battery is full enough ...')\n",
    "\n",
    "            print('Start driving at %d' % self.env.now)\n",
    "            trip_duration = 2\n",
    "            yield self.env.timeout(trip_duration)\n",
    "\n",
    "    def charge(self, duration):\n",
    "        yield self.env.timeout(duration)\n",
    "\n",
    "env = simpy.Environment()\n",
    "car = Car(env)\n",
    "env.process(driver(env, car)) # interrumpimos el proceso\n",
    "env.run(until=15)"
   ]
  },
  {
   "cell_type": "markdown",
   "metadata": {},
   "source": [
    "# Recursos compartidos\n",
    "\n",
    "Simpy ofrece 3 tipos de recursos:\n",
    "\n",
    "- resource: Recursos que respetan prioridades y anticipacion\n",
    "- container: Recursos repartidos homogeneamente entre procesos\n",
    "- store: Recursos posiblimente una cantidad ilimitdada\n",
    "\n",
    "\n",
    "Un recurso que debemos modelar con esto es la capacidad actual del puerto!!, lo podemos ver como un recurso que puede llenarse no ilimitadamente por lo tanto descartamos container para la simulacion de capacidad de puertos\n",
    "\n",
    "\n",
    "Consideremos el ejemlpo del auto supongamos ahora que este conduce a una estacion de carga electrica la cual tiene 2 posibles espacios de carga, si estan ocupados espera hasta que uno de estos se desocupe\n"
   ]
  },
  {
   "cell_type": "code",
   "execution_count": 30,
   "metadata": {},
   "outputs": [],
   "source": [
    "def car(env, name, bcs, driving_time, charge_duration):\n",
    "    # Simulate driving to the BCS\n",
    "    yield env.timeout(driving_time)\n",
    "\n",
    "    # Request one of its charging spots\n",
    "    print('%s arriving at %d' % (name, env.now))\n",
    "    with bcs.request() as req:\n",
    "        yield req\n",
    "\n",
    "        # Charge the battery\n",
    "        print('%s starting to charge at %s' % (name, env.now))\n",
    "        yield env.timeout(charge_duration)\n",
    "        print('%s leaving the bcs at %s' % (name, env.now))"
   ]
  },
  {
   "cell_type": "markdown",
   "metadata": {},
   "source": [
    "el metodo *request()* genera un evento el cual hace esperar hasta que este disponible tal recurso. Notar, que se utilizó with, esto se encarga automaticamente de liberar el recurso, sin with debemos usar *release()* una vez que se termine de usar el recurso\n",
    "\n",
    "\n",
    "Cuando se libera un recurso el proceso que estaba esperando es reanudado y utuiliza rl recuros, se usa  un orden FIFO (first in—first out)"
   ]
  },
  {
   "cell_type": "code",
   "execution_count": 32,
   "metadata": {},
   "outputs": [
    {
     "name": "stdout",
     "output_type": "stream",
     "text": [
      "Car 0 arriving at 0\n",
      "Car 0 starting to charge at 0\n",
      "Car 1 arriving at 2\n",
      "Car 2 arriving at 4\n",
      "Car 0 leaving the bcs at 5\n",
      "Car 1 starting to charge at 5\n",
      "Car 3 arriving at 6\n",
      "Car 4 arriving at 8\n"
     ]
    }
   ],
   "source": [
    "env = simpy.Environment()\n",
    "bcs = simpy.Resource(env, capacity=1)\n",
    "for i in range(50):\n",
    "    env.process(car(env, 'Car %d' % i, bcs, i*2, 5))\n",
    "\n",
    "env.run(until=10)"
   ]
  }
 ],
 "metadata": {
  "kernelspec": {
   "display_name": "Python 3",
   "language": "python",
   "name": "python3"
  },
  "language_info": {
   "codemirror_mode": {
    "name": "ipython",
    "version": 3
   },
   "file_extension": ".py",
   "mimetype": "text/x-python",
   "name": "python",
   "nbconvert_exporter": "python",
   "pygments_lexer": "ipython3",
   "version": "3.11.9"
  }
 },
 "nbformat": 4,
 "nbformat_minor": 2
}
